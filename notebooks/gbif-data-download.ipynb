{
 "cells": [
  {
   "cell_type": "markdown",
   "id": "5e68a2db",
   "metadata": {},
   "source": [
    "### Steps for downloading GBIF data for another species for your portfolio post\n",
    "\n",
    "#### Step 1: choose a terrestrial species that migrates (and find its scientific/Latin name)\n",
    "\n",
    "#### Step 2: make an account on [gbif.org](<https://www.gbif.org/)>)\n",
    "\n",
    "#### Step 3: Install the pygbif package in your python environment\n",
    "\n",
    "If you're on a Mac, just run this code chunk:"
   ]
  },
  {
   "cell_type": "code",
   "execution_count": 2,
   "id": "fb367f5f",
   "metadata": {},
   "outputs": [
    {
     "name": "stdout",
     "output_type": "stream",
     "text": [
      "Requirement already satisfied: pygbif in /opt/miniconda3/envs/earth-analytics-python/lib/python3.11/site-packages (0.6.5)\n",
      "Requirement already satisfied: requests>2.7 in /opt/miniconda3/envs/earth-analytics-python/lib/python3.11/site-packages (from pygbif) (2.32.5)\n",
      "Requirement already satisfied: requests-cache in /opt/miniconda3/envs/earth-analytics-python/lib/python3.11/site-packages (from pygbif) (1.2.1)\n",
      "Requirement already satisfied: geojson_rewind in /opt/miniconda3/envs/earth-analytics-python/lib/python3.11/site-packages (from pygbif) (1.1.0)\n",
      "Requirement already satisfied: geomet in /opt/miniconda3/envs/earth-analytics-python/lib/python3.11/site-packages (from pygbif) (1.1.0)\n",
      "Requirement already satisfied: appdirs>=1.4.3 in /opt/miniconda3/envs/earth-analytics-python/lib/python3.11/site-packages (from pygbif) (1.4.4)\n",
      "Requirement already satisfied: matplotlib in /opt/miniconda3/envs/earth-analytics-python/lib/python3.11/site-packages (from pygbif) (3.10.6)\n",
      "Requirement already satisfied: charset_normalizer<4,>=2 in /opt/miniconda3/envs/earth-analytics-python/lib/python3.11/site-packages (from requests>2.7->pygbif) (3.4.3)\n",
      "Requirement already satisfied: idna<4,>=2.5 in /opt/miniconda3/envs/earth-analytics-python/lib/python3.11/site-packages (from requests>2.7->pygbif) (3.10)\n",
      "Requirement already satisfied: urllib3<3,>=1.21.1 in /opt/miniconda3/envs/earth-analytics-python/lib/python3.11/site-packages (from requests>2.7->pygbif) (2.5.0)\n",
      "Requirement already satisfied: certifi>=2017.4.17 in /opt/miniconda3/envs/earth-analytics-python/lib/python3.11/site-packages (from requests>2.7->pygbif) (2025.8.3)\n",
      "Requirement already satisfied: click in /opt/miniconda3/envs/earth-analytics-python/lib/python3.11/site-packages (from geomet->pygbif) (8.3.0)\n",
      "Requirement already satisfied: contourpy>=1.0.1 in /opt/miniconda3/envs/earth-analytics-python/lib/python3.11/site-packages (from matplotlib->pygbif) (1.3.3)\n",
      "Requirement already satisfied: cycler>=0.10 in /opt/miniconda3/envs/earth-analytics-python/lib/python3.11/site-packages (from matplotlib->pygbif) (0.12.1)\n",
      "Requirement already satisfied: fonttools>=4.22.0 in /opt/miniconda3/envs/earth-analytics-python/lib/python3.11/site-packages (from matplotlib->pygbif) (4.60.0)\n",
      "Requirement already satisfied: kiwisolver>=1.3.1 in /opt/miniconda3/envs/earth-analytics-python/lib/python3.11/site-packages (from matplotlib->pygbif) (1.4.9)\n",
      "Requirement already satisfied: numpy>=1.23 in /opt/miniconda3/envs/earth-analytics-python/lib/python3.11/site-packages (from matplotlib->pygbif) (2.2.6)\n",
      "Requirement already satisfied: packaging>=20.0 in /opt/miniconda3/envs/earth-analytics-python/lib/python3.11/site-packages (from matplotlib->pygbif) (25.0)\n",
      "Requirement already satisfied: pillow>=8 in /opt/miniconda3/envs/earth-analytics-python/lib/python3.11/site-packages (from matplotlib->pygbif) (11.3.0)\n",
      "Requirement already satisfied: pyparsing>=2.3.1 in /opt/miniconda3/envs/earth-analytics-python/lib/python3.11/site-packages (from matplotlib->pygbif) (3.2.5)\n",
      "Requirement already satisfied: python-dateutil>=2.7 in /opt/miniconda3/envs/earth-analytics-python/lib/python3.11/site-packages (from matplotlib->pygbif) (2.9.0.post0)\n",
      "Requirement already satisfied: six>=1.5 in /opt/miniconda3/envs/earth-analytics-python/lib/python3.11/site-packages (from python-dateutil>=2.7->matplotlib->pygbif) (1.17.0)\n",
      "Requirement already satisfied: attrs>=21.2 in /opt/miniconda3/envs/earth-analytics-python/lib/python3.11/site-packages (from requests-cache->pygbif) (25.3.0)\n",
      "Requirement already satisfied: cattrs>=22.2 in /opt/miniconda3/envs/earth-analytics-python/lib/python3.11/site-packages (from requests-cache->pygbif) (25.2.0)\n",
      "Requirement already satisfied: platformdirs>=2.5 in /opt/miniconda3/envs/earth-analytics-python/lib/python3.11/site-packages (from requests-cache->pygbif) (4.4.0)\n",
      "Requirement already satisfied: url-normalize>=1.4 in /opt/miniconda3/envs/earth-analytics-python/lib/python3.11/site-packages (from requests-cache->pygbif) (2.2.1)\n",
      "Requirement already satisfied: typing-extensions>=4.12.2 in /opt/miniconda3/envs/earth-analytics-python/lib/python3.11/site-packages (from cattrs>=22.2->requests-cache->pygbif) (4.14.1)\n"
     ]
    }
   ],
   "source": [
    "%%bash\n",
    "pip install pygbif"
   ]
  },
  {
   "cell_type": "markdown",
   "id": "e177dfe5",
   "metadata": {},
   "source": [
    "If you're on a PC, open Git Bash in the Terminal at the bottom of the Jupyter notebook, and enter this: \n",
    "\n",
    "`pip install pygbif`"
   ]
  },
  {
   "cell_type": "markdown",
   "id": "2aef0dbb",
   "metadata": {},
   "source": [
    "#### Step 4: load the packages you'll need"
   ]
  },
  {
   "cell_type": "code",
   "execution_count": 3,
   "id": "f3b77a0c",
   "metadata": {},
   "outputs": [],
   "source": [
    "import pathlib\n",
    "import os\n",
    "import pygbif.occurrences as occ\n",
    "import pygbif.species as species"
   ]
  },
  {
   "cell_type": "markdown",
   "id": "07772f54",
   "metadata": {},
   "source": [
    "#### Step 5: make a folder for your GBIF data\n",
    "You'll need to modify this code to match your folder structure:"
   ]
  },
  {
   "cell_type": "code",
   "execution_count": null,
   "id": "192ff4c1",
   "metadata": {},
   "outputs": [],
   "source": [
    "### create data directory\n",
    "crane_dir = os.path.join(\n",
    "\n",
    "    ### home directory\n",
    "    pathlib.Path.home(),\n",
    "\n",
    "    ### folder with assignments for this class\n",
    "    'earth-analytics',\n",
    "    'data',\n",
    "    'class_demos',\n",
    "    'sandhill_crane')\n",
    "\n",
    "### make the directory\n",
    "os.makedirs(crane_dir, exist_ok = True)\n",
    "\n",
    "### define directory for gbif data\n",
    "gbif_dir = os.path.join(crane_dir, 'gbif')\n",
    "\n",
    "### make the directory\n",
    "os.makedirs(gbif_dir, exist_ok = True)"
   ]
  },
  {
   "cell_type": "markdown",
   "id": "43ca47a3",
   "metadata": {},
   "source": [
    "#### Step 6: link GBIF to your Jupyter notebook\n",
    "- Change to `reset = True` the first time you run it. When you run it, you'll be prompted to enter your GBIF username, password, and associated email address\n",
    "- Then change it back to `reset = False` so you can re-run the chunk without having to reconnect to GBIF\n",
    "- You don’t need to modify this code chunk in any other way\n"
   ]
  },
  {
   "cell_type": "code",
   "execution_count": 4,
   "id": "d86887c7",
   "metadata": {},
   "outputs": [
    {
     "ename": "NameError",
     "evalue": "name 'getpass' is not defined",
     "output_type": "error",
     "traceback": [
      "\u001b[31m---------------------------------------------------------------------------\u001b[39m",
      "\u001b[31mNameError\u001b[39m                                 Traceback (most recent call last)",
      "\u001b[36mCell\u001b[39m\u001b[36m \u001b[39m\u001b[32mIn[4]\u001b[39m\u001b[32m, line 18\u001b[39m\n\u001b[32m     16\u001b[39m \u001b[38;5;66;03m# Securely request and store password\u001b[39;00m\n\u001b[32m     17\u001b[39m \u001b[38;5;28;01mif\u001b[39;00m (\u001b[38;5;129;01mnot\u001b[39;00m (\u001b[33m'\u001b[39m\u001b[33mGBIF_PWD\u001b[39m\u001b[33m'\u001b[39m  \u001b[38;5;129;01min\u001b[39;00m os.environ)) \u001b[38;5;129;01mor\u001b[39;00m reset:\n\u001b[32m---> \u001b[39m\u001b[32m18\u001b[39m     os.environ[\u001b[33m'\u001b[39m\u001b[33mGBIF_PWD\u001b[39m\u001b[33m'\u001b[39m] = \u001b[43mgetpass\u001b[49m(\u001b[33m'\u001b[39m\u001b[33mGBIF password:\u001b[39m\u001b[33m'\u001b[39m)\n\u001b[32m     20\u001b[39m \u001b[38;5;66;03m# Request and store account email address\u001b[39;00m\n\u001b[32m     21\u001b[39m \u001b[38;5;28;01mif\u001b[39;00m (\u001b[38;5;129;01mnot\u001b[39;00m (\u001b[33m'\u001b[39m\u001b[33mGBIF_EMAIL\u001b[39m\u001b[33m'\u001b[39m  \u001b[38;5;129;01min\u001b[39;00m os.environ)) \u001b[38;5;129;01mor\u001b[39;00m reset:\n",
      "\u001b[31mNameError\u001b[39m: name 'getpass' is not defined"
     ]
    }
   ],
   "source": [
    "####--------------------------####\n",
    "#### DO NOT MODIFY THIS CODE! ####\n",
    "####--------------------------####\n",
    "# This code ASKS for your credentials \n",
    "# and saves it for the rest of the session.\n",
    "# NEVER put your credentials into your code!!!!\n",
    "\n",
    "# GBIF needs a username, password, and email \n",
    "# All 3 need to match the account\n",
    "reset = True\n",
    "\n",
    "# Request and store username\n",
    "if (not ('GBIF_USER'  in os.environ)) or reset:\n",
    "    os.environ['GBIF_USER'] = input('GBIF username:')\n",
    "\n",
    "# Securely request and store password\n",
    "if (not ('GBIF_PWD'  in os.environ)) or reset:\n",
    "    os.environ['GBIF_PWD'] = getpass('GBIF password:')\n",
    "    \n",
    "# Request and store account email address\n",
    "if (not ('GBIF_EMAIL'  in os.environ)) or reset:\n",
    "    os.environ['GBIF_EMAIL'] = input('GBIF email:')"
   ]
  },
  {
   "cell_type": "markdown",
   "id": "3ba6fd5b",
   "metadata": {},
   "source": [
    "#### Step 7: Get the species key for your species from GBIF using the `name_backbone` command\n",
    "You'll need to modify this code with the scientific name of your species"
   ]
  },
  {
   "cell_type": "code",
   "execution_count": null,
   "id": "f9e1b0f5",
   "metadata": {},
   "outputs": [],
   "source": [
    "### grab the species info\n",
    "backbone = species.name_backbone(name = 'Antigone canadensis')\n",
    "\n",
    "### check it out\n",
    "backbone\n",
    "\n",
    "### pull out the species key\n",
    "species_key = backbone['acceptedUsageKey']\n",
    "\n",
    "### check it out\n",
    "species_key"
   ]
  },
  {
   "cell_type": "markdown",
   "id": "032e677e",
   "metadata": {},
   "source": [
    "#### Step 8: Run this code to download the GBIF data once\n",
    "It might take several minutes for the data to download\n",
    "\n",
    "Modify this code to update the year if you want data for a different year, and to use the correct data_dir for your file structure (my code says \"gbif_dir\")"
   ]
  },
  {
   "cell_type": "code",
   "execution_count": null,
   "id": "0cc354ce",
   "metadata": {},
   "outputs": [],
   "source": [
    "# Only download once\n",
    "### set file name for download\n",
    "gbif_pattern = os.path.join(gbif_dir, '*.csv')\n",
    "\n",
    "### double check that there isn't already a file that matches this pattern.\n",
    "### if it already exists, skip the whole conditional\n",
    "### and go straight to the line: gbif_path = glob(gbif_pattern)[0]\n",
    "if not glob(gbif_pattern):\n",
    "\n",
    "    ### only submit a download request to GBIF once\n",
    "    ### if GBIF_DOWNLOAD_KEY is not defined in our environment, make the download request\n",
    "    if not 'GBIF_DOWNLOAD_KEY' in os.environ:\n",
    "\n",
    "        ### submit a query to GBIF\n",
    "        gbif_query = occ.download([\n",
    "\n",
    "            ### add your species key here\n",
    "            f\"speciesKey = {species_key}\",\n",
    "\n",
    "            ### filter out results that are missing coordinates\n",
    "            \"hasCoordinate = True\",\n",
    "\n",
    "            ### choose a year to include\n",
    "            \"year = 2024\",\n",
    "        ])\n",
    "        os.environ['GBIF_DOWNLOAD_KEY'] = gbif_query[0]\n",
    "\n",
    "    # Wait for the download to build\n",
    "    download_key = os.environ['GBIF_DOWNLOAD_KEY']\n",
    "\n",
    "    ### use the occurrence command module in pygbif to get the metadata\n",
    "    wait = occ.download_meta(download_key)['status']\n",
    "\n",
    "    ### check if the status of the download = \"SUCCEEDED\"\n",
    "    ### wait and loop through until it finishes\n",
    "    while not wait=='SUCCEEDED':\n",
    "        wait = occ.download_meta(download_key)['status']\n",
    "\n",
    "        ### don't want to re-query the API in the loop too frequently\n",
    "        time.sleep(5)\n",
    "\n",
    "    # Download GBIF data when it's ready\n",
    "    download_info = occ.download_get(\n",
    "        os.environ['GBIF_DOWNLOAD_KEY'], \n",
    "        path=gbif_dir)\n",
    "\n",
    "    # Unzip GBIF data using the zipfile package\n",
    "    with zipfile.ZipFile(download_info['path']) as download_zip:\n",
    "        download_zip.extractall(path=gbif_dir)\n",
    "\n",
    "# Find the extracted .csv file path (take the first result)\n",
    "gbif_path = glob(gbif_pattern)[0]"
   ]
  },
  {
   "cell_type": "markdown",
   "id": "18ad68e7",
   "metadata": {},
   "source": [
    "The GBIF occurrence data should now be in a folder on your computer, saved as a .csv file. You can open it using the code structure we've used before to open .csv files using pandas."
   ]
  }
 ],
 "metadata": {
  "kernelspec": {
   "display_name": "earth-analytics-python",
   "language": "python",
   "name": "python3"
  },
  "language_info": {
   "codemirror_mode": {
    "name": "ipython",
    "version": 3
   },
   "file_extension": ".py",
   "mimetype": "text/x-python",
   "name": "python",
   "nbconvert_exporter": "python",
   "pygments_lexer": "ipython3",
   "version": "3.11.13"
  }
 },
 "nbformat": 4,
 "nbformat_minor": 5
}
